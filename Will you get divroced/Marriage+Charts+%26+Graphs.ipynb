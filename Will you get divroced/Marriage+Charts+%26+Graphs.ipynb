{
 "cells": [
  {
   "cell_type": "markdown",
   "metadata": {},
   "source": [
    "## <font color='black'>Purpose: \n",
    "Wouldn't it be amazing if you could be certain your marriage will be successful?\n",
    "Let us help you figure out if this is the right person for you!</font>"
   ]
  },
  {
   "cell_type": "markdown",
   "metadata": {},
   "source": [
    "### <font color='gray'>What You Need to Do:\n",
    "    Simply answer a few quick questions and we will predict if you're destined for marital bliss."
   ]
  },
  {
   "cell_type": "code",
   "execution_count": 2,
   "metadata": {},
   "outputs": [
    {
     "name": "stderr",
     "output_type": "stream",
     "text": [
      "/Users/sowmyamurali/anaconda3/lib/python3.6/site-packages/statsmodels/compat/pandas.py:56: FutureWarning: The pandas.core.datetools module is deprecated and will be removed in a future version. Please use the pandas.tseries module instead.\n",
      "  from pandas.core import datetools\n",
      "/Users/sowmyamurali/anaconda3/lib/python3.6/site-packages/sklearn/cross_validation.py:41: DeprecationWarning: This module was deprecated in version 0.18 in favor of the model_selection module into which all the refactored classes and functions are moved. Also note that the interface of the new CV iterators are different from that of this module. This module will be removed in 0.20.\n",
      "  \"This module will be removed in 0.20.\", DeprecationWarning)\n"
     ]
    }
   ],
   "source": [
    "import numpy as np\n",
    "import math\n",
    "import pandas as pd\n",
    "import statsmodels.api as sm\n",
    "import matplotlib.pyplot as plt\n",
    "from patsy import dmatrices\n",
    "from sklearn.linear_model import LogisticRegression\n",
    "from sklearn.cross_validation import train_test_split\n",
    "from sklearn import metrics\n",
    "from sklearn.metrics import accuracy_score\n",
    "from sklearn.cross_validation import cross_val_score"
   ]
  },
  {
   "cell_type": "code",
   "execution_count": 3,
   "metadata": {
    "collapsed": true
   },
   "outputs": [],
   "source": [
    "fileName = 'marriage.csv'\n",
    "marriage_raw = pd.read_csv(fileName, header =0)"
   ]
  },
  {
   "cell_type": "code",
   "execution_count": 4,
   "metadata": {},
   "outputs": [
    {
     "data": {
      "text/plain": [
       "(2020, 163)"
      ]
     },
     "execution_count": 4,
     "metadata": {},
     "output_type": "execute_result"
    }
   ],
   "source": [
    "marriage_raw.shape"
   ]
  },
  {
   "cell_type": "code",
   "execution_count": 5,
   "metadata": {
    "collapsed": true
   },
   "outputs": [],
   "source": [
    "#select the columns we want\n",
    "marriage1 = marriage_raw[['m2','state','usr1','spouse','qs1','marital','m4','lwp3','e3','q1','q15a','q15b','q15c','q15d','q15e','q15f','q15g','q15h','q15i','q16','e5','fam2','ownrent','relig','income','ideo','receduc','racethn']]"
   ]
  },
  {
   "cell_type": "code",
   "execution_count": 6,
   "metadata": {
    "collapsed": true
   },
   "outputs": [],
   "source": [
    "#rename columns so we can understand\n",
    "marriage1 = marriage1.rename(columns={'m2':'everMarried','state': 'state', 'usr1': 'community', 'spouse': 'whichSpouse', 'qs1': 'age', 'marital': 'marriageStatus', 'm4': 'everDivorced', 'lwp3': 'livedTogether', 'e3': 'employment', 'q1': 'lifeSatisfaction','q15a':'faithfulness','q15b':'adeqIncome', 'q15c':'shareRelig', 'q15d':'goodHouse', 'q15e':'agreePolitics', 'q15f':'goodSexLife', 'q15g':'shareChores', 'q15h':'children', 'q15i':'commonInterests', 'q16':'divorceViews', 'e5':'spouseEmployment', 'fam2':'parentMaritalStatus', 'ownrent':'ownrent', 'relig':'religion', 'income':'incomepastyr', 'ideo':'politicalViews', 'receduc':'educationLevel', 'raceeth':'racethn'})"
   ]
  },
  {
   "cell_type": "code",
   "execution_count": 7,
   "metadata": {
    "collapsed": true
   },
   "outputs": [],
   "source": [
    "#move everDivorced to end since it is the target\n",
    "features = list(marriage1.columns.values)\n",
    "features.pop(features.index('marriageStatus'))\n",
    "features.pop(features.index('everDivorced'))\n",
    "marriage1 = marriage1[['marriageStatus']+features+['everDivorced']]"
   ]
  },
  {
   "cell_type": "code",
   "execution_count": 8,
   "metadata": {
    "collapsed": true
   },
   "outputs": [],
   "source": [
    "#the only rows that have 0 as a valid value are q15a-i\n",
    "#therefore set all blank values in the remaining columns to 0s\n",
    "marriage1 = marriage1.replace(' ', np.nan)"
   ]
  },
  {
   "cell_type": "code",
   "execution_count": 9,
   "metadata": {
    "collapsed": true
   },
   "outputs": [],
   "source": [
    "marriage1 = marriage1.apply(pd.to_numeric, errors='ignore')"
   ]
  },
  {
   "cell_type": "code",
   "execution_count": 10,
   "metadata": {
    "collapsed": true
   },
   "outputs": [],
   "source": [
    "#remove all rows where MarriageStatus = 6 - never been married or 9 - don't know/refused\n",
    "marriage1 = marriage1.drop(marriage1[(marriage1.marriageStatus == 6) | (marriage1.marriageStatus == 9)].index)"
   ]
  },
  {
   "cell_type": "code",
   "execution_count": 11,
   "metadata": {
    "collapsed": true
   },
   "outputs": [],
   "source": [
    "#for all rows where marriage status is 3 - divorced or 4 - separated enter 1 in everDivorced\n",
    "marriage1.loc[marriage1['marriageStatus'] == 3, 'everDivorced'] = 1\n",
    "marriage1.loc[marriage1['marriageStatus'] == 4, 'everDivorced'] = 1"
   ]
  },
  {
   "cell_type": "code",
   "execution_count": 12,
   "metadata": {
    "collapsed": true
   },
   "outputs": [],
   "source": [
    "#for all rows where everMarried = 1 and marriage status = 2 enter 1 in everDivorced\n",
    "#we are assuming here that if you've been married and current status is living together then you've been divorced\n",
    "marriage1.loc[(marriage1['everMarried']==1) & (marriage1['marriageStatus']==2),'everDivorced'] = 1"
   ]
  },
  {
   "cell_type": "code",
   "execution_count": 13,
   "metadata": {
    "collapsed": true
   },
   "outputs": [],
   "source": [
    "#for all rows where marriage status is 1 - married or 2 - living together or 5 - widowed enter 0 in everDivorced\n",
    "marriage1.loc[((marriage1['marriageStatus'].isin([1,2,5])) & (marriage1['everDivorced'].isnull())),'everDivorced'] = 0"
   ]
  },
  {
   "cell_type": "code",
   "execution_count": 14,
   "metadata": {
    "collapsed": true
   },
   "outputs": [],
   "source": [
    "marriage1.loc[marriage1['everDivorced'] == 2, 'everDivorced'] = 0"
   ]
  },
  {
   "cell_type": "code",
   "execution_count": 15,
   "metadata": {},
   "outputs": [
    {
     "data": {
      "text/plain": [
       "array([ 0.,  1.])"
      ]
     },
     "execution_count": 15,
     "metadata": {},
     "output_type": "execute_result"
    }
   ],
   "source": [
    "#check the values of everDivorced\n",
    "marriage1['everDivorced'].unique()"
   ]
  },
  {
   "cell_type": "code",
   "execution_count": 16,
   "metadata": {},
   "outputs": [
    {
     "data": {
      "text/plain": [
       "(1594, 28)"
      ]
     },
     "execution_count": 16,
     "metadata": {},
     "output_type": "execute_result"
    }
   ],
   "source": [
    "#new number of rows and columns\n",
    "marriage1.shape"
   ]
  },
  {
   "cell_type": "code",
   "execution_count": 17,
   "metadata": {
    "collapsed": true
   },
   "outputs": [],
   "source": [
    "#the features are everything but everdivorced, maritial status and everMarried\n",
    "features =  list(marriage1.columns[2:27])"
   ]
  },
  {
   "cell_type": "code",
   "execution_count": 18,
   "metadata": {
    "collapsed": true
   },
   "outputs": [],
   "source": [
    "%matplotlib inline"
   ]
  },
  {
   "cell_type": "code",
   "execution_count": 19,
   "metadata": {},
   "outputs": [
    {
     "data": {
      "text/plain": [
       "2    678\n",
       "1    644\n",
       "3    272\n",
       "Name: community, dtype: int64"
      ]
     },
     "execution_count": 19,
     "metadata": {},
     "output_type": "execute_result"
    }
   ],
   "source": [
    "# how many responses per state\n",
    "# 1│Urban   \n",
    "# 2│Suburban\n",
    "# 3│Rural   \n",
    "marriage1['community'].value_counts()"
   ]
  },
  {
   "cell_type": "code",
   "execution_count": 20,
   "metadata": {},
   "outputs": [
    {
     "data": {
      "text/plain": [
       "<matplotlib.axes._subplots.AxesSubplot at 0x11544e4a8>"
      ]
     },
     "execution_count": 20,
     "metadata": {},
     "output_type": "execute_result"
    },
    {
     "data": {
      "image/png": "[encoded data removed]",
      "text/plain": [
       "<matplotlib.figure.Figure at 0x115443dd8>"
      ]
     },
     "metadata": {},
     "output_type": "display_data"
    }
   ],
   "source": [
    "marriage1['community'].value_counts().plot(kind='pie',labels=['Suburban','Urban','Rural'],colors=['#9AD5CA', '#9A7AA0','#735751'], figsize=(6, 6))"
   ]
  },
  {
   "cell_type": "code",
   "execution_count": 21,
   "metadata": {},
   "outputs": [
    {
     "data": {
      "text/plain": [
       "1.0    272\n",
       "2.0     11\n",
       "3.0      3\n",
       "Name: age, dtype: int64"
      ]
     },
     "execution_count": 21,
     "metadata": {},
     "output_type": "execute_result"
    }
   ],
   "source": [
    "#how many responses per age group\n",
    "# 1│18 to 49          \n",
    "# 2│50 to 64    \n",
    "# 3│65 and older?     \n",
    "# 9│Don't know/Refused\n",
    "\n",
    "marriage1['age'].value_counts()"
   ]
  },
  {
   "cell_type": "code",
   "execution_count": 57,
   "metadata": {},
   "outputs": [
    {
     "data": {
      "text/plain": [
       "whichSpouse  everDivorced\n",
       "1.0          0.0             388\n",
       "             1.0             101\n",
       "2.0          0.0             411\n",
       "             1.0             113\n",
       "Name: whichSpouse, dtype: int64"
      ]
     },
     "execution_count": 57,
     "metadata": {},
     "output_type": "execute_result"
    }
   ],
   "source": [
    "#how many people women vs men are divorced\n",
    "#1 wife 2 husband\n",
    "marriage1.groupby(by=[marriage1.whichSpouse,marriage1.everDivorced, ])['whichSpouse'].count()"
   ]
  },
  {
   "cell_type": "code",
   "execution_count": 23,
   "metadata": {},
   "outputs": [
    {
     "data": {
      "image/png": "[encoded data removed]",
      "text/plain": [
       "<matplotlib.figure.Figure at 0x10d912198>"
      ]
     },
     "metadata": {},
     "output_type": "display_data"
    }
   ],
   "source": [
    "test_x = marriage1['everDivorced']\n",
    "test_y = marriage1['age']\n",
    "points=list(set(zip(test_x,test_y))) \n",
    "#Generate a list of point counts\n",
    "count=[len([x for x,y in zip(test_x,test_y) if x==p[0] and y==p[1]]) for p in points]\n",
    "#lotting:\n",
    "plot_x=[i[0] for i in points]\n",
    "plot_y=[i[1] for i in points]\n",
    "count=np.array(count)\n",
    "plt.scatter(plot_x,plot_y,c=count,s=100*count**0.5,cmap='Spectral_r')\n",
    "plt.colorbar()\n",
    "plt.title('Age and Divorce')\n",
    "plt.xlabel('Ever Divorced')\n",
    "plt.ylabel('age')\n",
    "plt.show()"
   ]
  },
  {
   "cell_type": "code",
   "execution_count": 30,
   "metadata": {},
   "outputs": [
    {
     "data": {
      "text/plain": [
       "<matplotlib.axes._subplots.AxesSubplot at 0x11b1dbeb8>"
      ]
     },
     "execution_count": 30,
     "metadata": {},
     "output_type": "execute_result"
    },
    {
     "data": {
      "image/png": "[encoded data removed]",
      "text/plain": [
       "<matplotlib.figure.Figure at 0x11b4dbba8>"
      ]
     },
     "metadata": {},
     "output_type": "display_data"
    }
   ],
   "source": [
    "#ratio of divorced vs not divorced people\n",
    "marriage1['everDivorced'].value_counts().plot(kind='pie',labels=['Never Divorced', 'Divorced'],colors=['#E7D7C1', '#BF4342'], figsize=(6, 6))"
   ]
  },
  {
   "cell_type": "code",
   "execution_count": 59,
   "metadata": {},
   "outputs": [
    {
     "data": {
      "text/plain": [
       "([<matplotlib.axis.XTick at 0x1c22900f60>,\n",
       "  <matplotlib.axis.XTick at 0x1c22827668>,\n",
       "  <matplotlib.axis.XTick at 0x1c2292b668>,\n",
       "  <matplotlib.axis.XTick at 0x1c2294ab38>,\n",
       "  <matplotlib.axis.XTick at 0x1c2294d1d0>],\n",
       " <a list of 5 Text xticklabel objects>)"
      ]
     },
     "execution_count": 59,
     "metadata": {},
     "output_type": "execute_result"
    },
    {
     "data": {
      "image/png": "[encoded data removed]",
      "text/plain": [
       "<matplotlib.figure.Figure at 0x1c22807e48>"
      ]
     },
     "metadata": {},
     "output_type": "display_data"
    }
   ],
   "source": [
    "#barplot of marriage rating grouped by race \n",
    "# 1 White 2 Black 3 Hispanic 4 Other 9 Don't Know\n",
    "\n",
    "pd.crosstab(marriage1.racethn, \\\n",
    "\n",
    "marriage1.everDivorced.astype(bool)).plot(kind='bar',color=['#E7D7C1', '#BF4342']) \n",
    "plt.title('Race & Divorce') \n",
    "plt.xlabel('Race') \n",
    "plt.ylabel('Frequency')\n",
    "plt.xticks(range(5), ('White', 'Black', 'Hispanic','Other','NA'),rotation=0)"
   ]
  },
  {
   "cell_type": "code",
   "execution_count": 58,
   "metadata": {},
   "outputs": [
    {
     "data": {
      "text/plain": [
       "([<matplotlib.axis.XTick at 0x1c227d05c0>,\n",
       "  <matplotlib.axis.XTick at 0x1c227d0dd8>,\n",
       "  <matplotlib.axis.XTick at 0x1c228077b8>,\n",
       "  <matplotlib.axis.XTick at 0x1c22827588>],\n",
       " <a list of 4 Text xticklabel objects>)"
      ]
     },
     "execution_count": 58,
     "metadata": {},
     "output_type": "execute_result"
    },
    {
     "data": {
      "image/png": "[encoded data removed]",
      "text/plain": [
       "<matplotlib.figure.Figure at 0x1c226232e8>"
      ]
     },
     "metadata": {},
     "output_type": "display_data"
    }
   ],
   "source": [
    "# 1 Own 2 Rent 3 Other Arrangement 9 Don't know\n",
    "\n",
    "pd.crosstab(marriage1.ownrent, \\\n",
    "\n",
    "marriage1.everDivorced.astype(bool)).plot(kind='bar',color=['#E7D7C1', '#BF4342']) \n",
    "plt.title('Housing & Divorce') \n",
    "plt.xlabel('Housing') \n",
    "plt.ylabel('Frequency')\n",
    "plt.xticks(range(4), ('Own', 'Rent', 'Other','NA'),rotation=0)"
   ]
  },
  {
   "cell_type": "code",
   "execution_count": 56,
   "metadata": {},
   "outputs": [
    {
     "data": {
      "text/plain": [
       "([<matplotlib.axis.XTick at 0x1c1fbe8860>,\n",
       "  <matplotlib.axis.XTick at 0x1c1fbe8438>,\n",
       "  <matplotlib.axis.XTick at 0x1c226e2f98>,\n",
       "  <matplotlib.axis.XTick at 0x1c227094e0>,\n",
       "  <matplotlib.axis.XTick at 0x1c22709b38>],\n",
       " <a list of 5 Text xticklabel objects>)"
      ]
     },
     "execution_count": 56,
     "metadata": {},
     "output_type": "execute_result"
    },
    {
     "data": {
      "image/png": "[encoded data removed]",
      "text/plain": [
       "<matplotlib.figure.Figure at 0x1c1fda45c0>"
      ]
     },
     "metadata": {},
     "output_type": "display_data"
    }
   ],
   "source": [
    "# │    1│LT HS    │\n",
    "# │    2│HS GRAD  │\n",
    "# │    3│SOME COLL│\n",
    "# │    4│COLLEGE+ │\n",
    "# │    9│REF      |\n",
    "labels =['LT HS', 'HS Grad','Some Col','Col+','NA']\n",
    "pd.crosstab(marriage1.educationLevel, \\\n",
    "\n",
    "marriage1.everDivorced.astype(bool)).plot(kind='bar',color=['#E7D7C1', '#BF4342']) \n",
    "plt.title('Education & Divorce') \n",
    "plt.xlabel('Education') \n",
    "plt.ylabel('Frequency')\n",
    "plt.xticks(range(5), ('LT HS', 'HS Grad','Some Col','Col+','NA'),rotation=0)"
   ]
  },
  {
   "cell_type": "code",
   "execution_count": 54,
   "metadata": {},
   "outputs": [
    {
     "data": {
      "text/plain": [
       "([<matplotlib.axis.XTick at 0x1c1fc29438>,\n",
       "  <matplotlib.axis.XTick at 0x1c1fc60048>,\n",
       "  <matplotlib.axis.XTick at 0x1c1fcba860>],\n",
       " <a list of 3 Text xticklabel objects>)"
      ]
     },
     "execution_count": 54,
     "metadata": {},
     "output_type": "execute_result"
    },
    {
     "data": {
      "image/png": "[encoded data removed]",
      "text/plain": [
       "<matplotlib.figure.Figure at 0x1c1fb72d68>"
      ]
     },
     "metadata": {},
     "output_type": "display_data"
    }
   ],
   "source": [
    "# 1│Urban   \n",
    "# 2│Suburban\n",
    "# 3│Rural\n",
    "\n",
    "pd.crosstab(marriage1.community, \\\n",
    "\n",
    "marriage1.everDivorced.astype(bool)).plot(kind='bar',color=['#E7D7C1', '#BF4342']) \n",
    "plt.title('Community & Divorce') \n",
    "plt.xlabel('Community') \n",
    "plt.ylabel('Frequency')\n",
    "plt.xticks(range(3), ('Urban', 'Suburban', 'Rural'),rotation=0)"
   ]
  },
  {
   "cell_type": "code",
   "execution_count": 25,
   "metadata": {},
   "outputs": [
    {
     "data": {
      "text/plain": [
       "Text(0,0.5,'Frequency')"
      ]
     },
     "execution_count": 25,
     "metadata": {},
     "output_type": "execute_result"
    },
    {
     "data": {
      "image/png": "[encoded data removed]",
      "text/plain": [
       "<matplotlib.figure.Figure at 0x11aeceba8>"
      ]
     },
     "metadata": {},
     "output_type": "display_data"
    }
   ],
   "source": [
    "#barplot of marriage rating grouped by parental divorce history (True or False)\n",
    "#parentMarital Status 1 Married 2 Divorced 3 Separated 4 Widowed 5 Never married 9 Don't know/Refused\n",
    "pd.crosstab(marriage1.parentMaritalStatus, \\\n",
    "\n",
    "marriage1.everDivorced.astype(bool)).plot(kind='bar',color=['#E7D7C1', '#BF4342']) \n",
    "plt.title('Parents marital status effect on Ever Divorced of participant') \n",
    "plt.xlabel('Parents Marital Status') \n",
    "plt.ylabel('Frequency')"
   ]
  }
 ],
 "metadata": {
  "kernelspec": {
   "display_name": "Python 3",
   "language": "python",
   "name": "python3"
  },
  "language_info": {
   "codemirror_mode": {
    "name": "ipython",
    "version": 3
   },
   "file_extension": ".py",
   "mimetype": "text/x-python",
   "name": "python",
   "nbconvert_exporter": "python",
   "pygments_lexer": "ipython3",
   "version": "3.6.2"
  }
 },
 "nbformat": 4,
 "nbformat_minor": 2
}
